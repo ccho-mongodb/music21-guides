{
 "cells": [
  {
   "cell_type": "markdown",
   "id": "c32298b1-b00f-4cf4-8762-1908c5ccddb1",
   "metadata": {},
   "source": [
    "# Music21 Quick Start\n",
    "\n",
    "This quick start guide shows you how to install and use the `music21` package. This guide is for Python developers familiar with musical notation and terminology.\n",
    "\n",
    "The `music21` package lets you programmatically create musical notation and analyze music. Learn more about `music21` from [What is Music21](https://www.music21.org/music21docs/about/what.html) in the package documentation. \n",
    "\n",
    "Follow this tutorial to learn how to perform the following actions using `music21`:\n",
    "\n",
    "- [Install the Music21 Package](#Install-the-Music21-Package)\n",
    "- [Add Notes to a Staff](#Add-Notes-to-a-Staff)\n",
    "- [Set the Key and Time Signature](#Set-the-Key-and-Time-Signature)\n",
    "- [Play Back Your Music](#Play-Back-Your-Music)\n",
    "- [Analyze Your Music](#Analyze-Your-Music)\n",
    "\n",
    "Learn more about the modules and methods in this guide from the [API Documentation](#API-Documentation) section."
   ]
  },
  {
   "cell_type": "markdown",
   "id": "71b87dc0-daa7-4e2f-9920-5a4b482e129d",
   "metadata": {},
   "source": [
    "## Install the Music21 Package\n",
    "\n",
    "Run the following command to install `music21` and its dependencies on this notebook:"
   ]
  },
  {
   "cell_type": "code",
   "execution_count": 2,
   "id": "2d603afe-a0ce-4822-8cde-094aac6f6c19",
   "metadata": {},
   "outputs": [
    {
     "name": "stdout",
     "output_type": "stream",
     "text": [
      "Collecting music21\n",
      "  Downloading music21-9.3.0-py3-none-any.whl.metadata (5.0 kB)\n",
      "Collecting chardet (from music21)\n",
      "  Downloading chardet-5.2.0-py3-none-any.whl.metadata (3.4 kB)\n",
      "Requirement already satisfied: joblib in /Users/christophercho/.pyenv/versions/3.12.4/lib/python3.12/site-packages (from music21) (1.4.2)\n",
      "Collecting jsonpickle (from music21)\n",
      "  Using cached jsonpickle-3.3.0-py3-none-any.whl.metadata (8.3 kB)\n",
      "Collecting matplotlib (from music21)\n",
      "  Downloading matplotlib-3.9.2-cp312-cp312-macosx_10_12_x86_64.whl.metadata (11 kB)\n",
      "Collecting more-itertools (from music21)\n",
      "  Downloading more_itertools-10.5.0-py3-none-any.whl.metadata (36 kB)\n",
      "Requirement already satisfied: numpy in /Users/christophercho/.pyenv/versions/3.12.4/lib/python3.12/site-packages (from music21) (2.1.1)\n",
      "Requirement already satisfied: requests in /Users/christophercho/.pyenv/versions/3.12.4/lib/python3.12/site-packages (from music21) (2.32.3)\n",
      "Requirement already satisfied: webcolors>=1.5 in /Users/christophercho/.pyenv/versions/3.12.4/lib/python3.12/site-packages (from music21) (24.8.0)\n",
      "Collecting contourpy>=1.0.1 (from matplotlib->music21)\n",
      "  Downloading contourpy-1.3.0-cp312-cp312-macosx_10_9_x86_64.whl.metadata (5.4 kB)\n",
      "Collecting cycler>=0.10 (from matplotlib->music21)\n",
      "  Downloading cycler-0.12.1-py3-none-any.whl.metadata (3.8 kB)\n",
      "Collecting fonttools>=4.22.0 (from matplotlib->music21)\n",
      "  Downloading fonttools-4.54.1-cp312-cp312-macosx_10_13_universal2.whl.metadata (163 kB)\n",
      "Collecting kiwisolver>=1.3.1 (from matplotlib->music21)\n",
      "  Downloading kiwisolver-1.4.7-cp312-cp312-macosx_10_9_x86_64.whl.metadata (6.3 kB)\n",
      "Requirement already satisfied: packaging>=20.0 in /Users/christophercho/.pyenv/versions/3.12.4/lib/python3.12/site-packages (from matplotlib->music21) (24.1)\n",
      "Collecting pillow>=8 (from matplotlib->music21)\n",
      "  Downloading pillow-11.0.0-cp312-cp312-macosx_10_13_x86_64.whl.metadata (9.1 kB)\n",
      "Collecting pyparsing>=2.3.1 (from matplotlib->music21)\n",
      "  Downloading pyparsing-3.2.0-py3-none-any.whl.metadata (5.0 kB)\n",
      "Requirement already satisfied: python-dateutil>=2.7 in /Users/christophercho/.pyenv/versions/3.12.4/lib/python3.12/site-packages (from matplotlib->music21) (2.9.0.post0)\n",
      "Requirement already satisfied: charset-normalizer<4,>=2 in /Users/christophercho/.pyenv/versions/3.12.4/lib/python3.12/site-packages (from requests->music21) (3.3.2)\n",
      "Requirement already satisfied: idna<4,>=2.5 in /Users/christophercho/.pyenv/versions/3.12.4/lib/python3.12/site-packages (from requests->music21) (3.10)\n",
      "Requirement already satisfied: urllib3<3,>=1.21.1 in /Users/christophercho/.pyenv/versions/3.12.4/lib/python3.12/site-packages (from requests->music21) (2.2.3)\n",
      "Requirement already satisfied: certifi>=2017.4.17 in /Users/christophercho/.pyenv/versions/3.12.4/lib/python3.12/site-packages (from requests->music21) (2024.8.30)\n",
      "Requirement already satisfied: six>=1.5 in /Users/christophercho/.pyenv/versions/3.12.4/lib/python3.12/site-packages (from python-dateutil>=2.7->matplotlib->music21) (1.16.0)\n",
      "Downloading music21-9.3.0-py3-none-any.whl (22.9 MB)\n",
      "\u001b[2K   \u001b[38;2;114;156;31m━━━━━━━━━━━━━━━━━━━━━━━━━━━━━━━━━━━━━━━━\u001b[0m \u001b[32m22.9/22.9 MB\u001b[0m \u001b[31m39.0 MB/s\u001b[0m eta \u001b[36m0:00:00\u001b[0m MB/s\u001b[0m eta \u001b[36m0:00:01\u001b[0m01\u001b[0m\n",
      "\u001b[?25hDownloading chardet-5.2.0-py3-none-any.whl (199 kB)\n",
      "Using cached jsonpickle-3.3.0-py3-none-any.whl (42 kB)\n",
      "Downloading matplotlib-3.9.2-cp312-cp312-macosx_10_12_x86_64.whl (7.9 MB)\n",
      "\u001b[2K   \u001b[38;2;114;156;31m━━━━━━━━━━━━━━━━━━━━━━━━━━━━━━━━━━━━━━━━\u001b[0m \u001b[32m7.9/7.9 MB\u001b[0m \u001b[31m35.1 MB/s\u001b[0m eta \u001b[36m0:00:00\u001b[0mm eta \u001b[36m0:00:01\u001b[0m\n",
      "\u001b[?25hDownloading more_itertools-10.5.0-py3-none-any.whl (60 kB)\n",
      "Downloading contourpy-1.3.0-cp312-cp312-macosx_10_9_x86_64.whl (267 kB)\n",
      "Downloading cycler-0.12.1-py3-none-any.whl (8.3 kB)\n",
      "Downloading fonttools-4.54.1-cp312-cp312-macosx_10_13_universal2.whl (2.8 MB)\n",
      "\u001b[2K   \u001b[38;2;114;156;31m━━━━━━━━━━━━━━━━━━━━━━━━━━━━━━━━━━━━━━━━\u001b[0m \u001b[32m2.8/2.8 MB\u001b[0m \u001b[31m27.3 MB/s\u001b[0m eta \u001b[36m0:00:00\u001b[0m\n",
      "\u001b[?25hDownloading kiwisolver-1.4.7-cp312-cp312-macosx_10_9_x86_64.whl (65 kB)\n",
      "Downloading pillow-11.0.0-cp312-cp312-macosx_10_13_x86_64.whl (3.1 MB)\n",
      "\u001b[2K   \u001b[38;2;114;156;31m━━━━━━━━━━━━━━━━━━━━━━━━━━━━━━━━━━━━━━━━\u001b[0m \u001b[32m3.1/3.1 MB\u001b[0m \u001b[31m28.5 MB/s\u001b[0m eta \u001b[36m0:00:00\u001b[0m\n",
      "\u001b[?25hDownloading pyparsing-3.2.0-py3-none-any.whl (106 kB)\n",
      "Installing collected packages: pyparsing, pillow, more-itertools, kiwisolver, jsonpickle, fonttools, cycler, contourpy, chardet, matplotlib, music21\n",
      "Successfully installed chardet-5.2.0 contourpy-1.3.0 cycler-0.12.1 fonttools-4.54.1 jsonpickle-3.3.0 kiwisolver-1.4.7 matplotlib-3.9.2 more-itertools-10.5.0 music21-9.3.0 pillow-11.0.0 pyparsing-3.2.0\n",
      "\n",
      "\u001b[1m[\u001b[0m\u001b[34;49mnotice\u001b[0m\u001b[1;39;49m]\u001b[0m\u001b[39;49m A new release of pip is available: \u001b[0m\u001b[31;49m24.2\u001b[0m\u001b[39;49m -> \u001b[0m\u001b[32;49m24.3.1\u001b[0m\n",
      "\u001b[1m[\u001b[0m\u001b[34;49mnotice\u001b[0m\u001b[1;39;49m]\u001b[0m\u001b[39;49m To update, run: \u001b[0m\u001b[32;49mpip install --upgrade pip\u001b[0m\n"
     ]
    }
   ],
   "source": [
    "!pip install music21"
   ]
  },
  {
   "cell_type": "markdown",
   "id": "99990b86-ef22-4dcb-af2f-cc86b030ca02",
   "metadata": {},
   "source": [
    "## Import the Music21 Package Functions\n",
    "\n",
    "Add the following import statement to access the functions in the `music21` package:"
   ]
  },
  {
   "cell_type": "code",
   "execution_count": 3,
   "id": "00e17cfc-c800-4ed8-ac8c-d0d85f7df83b",
   "metadata": {},
   "outputs": [],
   "source": [
    "from music21 import *"
   ]
  },
  {
   "cell_type": "markdown",
   "id": "567515a7-3dea-4093-9f7a-f2ec9eccb410",
   "metadata": {},
   "source": [
    "## Add Notes to a Staff\n",
    "\n",
    "To add a sequence of notes, create a **Stream**. A Stream is a container that stores sequential music data, including the following types:\n",
    "\n",
    "- Notes\n",
    "- Time signatures\n",
    "- Key signatures\n",
    "- Clefs\n",
    "- Measures\n",
    "\n",
    "To create a Stream object, call the `Stream()` method from the `stream` module.\n",
    "\n",
    "To add notes, append **Note** objects to the Stream sequentially. A Note defines the attributes of a musical note. To create a Note, specify the pitch and duration in the constructor `Note()` from the `note` module.\n",
    "\n",
    "To view the Stream container as musical notation, call the `show()` method on the Stream object.\n",
    "\n",
    "Run the following code to add a sequence of notes to a Stream and display the musical notation:"
   ]
  },
  {
   "cell_type": "code",
   "execution_count": 4,
   "id": "38864a6c-7c82-4be9-86c3-8ec41bcc06a6",
   "metadata": {},
   "outputs": [
    {
     "data": {
      "image/png": "[encoded data removed]",
      "text/plain": [
       "<IPython.core.display.Image object>"
      ]
     },
     "metadata": {
      "image/png": {
       "height": 49,
       "width": 131
      }
     },
     "output_type": "display_data"
    }
   ],
   "source": [
    "noteStream = stream.Stream()\n",
    "noteStream.append(note.Note(\"C5\", type='quarter'))\n",
    "noteStream.append(note.Note(\"E5\", type='quarter'))\n",
    "noteStream.append(note.Note(\"G5\", type='half'))\n",
    "\n",
    "noteStream.show()"
   ]
  },
  {
   "cell_type": "markdown",
   "id": "4099fb96-5240-4c48-8ae8-0e0f16feb1e9",
   "metadata": {},
   "source": [
    "### Optional: Add a Chord to a Staff\n",
    "\n",
    "To add a chord, append a **Chord** object to the Stream. A Chord consists of a group of two or more musical notes that belong to the same beat. It shares a base class with Note. To construct a chord, specify the pitches in an array and the duration in the constructor `Chord()` from the `chord` module and add the Chord to your Stream.\n",
    "\n",
    "Run the following code to add a sample chord to your Stream and display it:\n",
    "\n"
   ]
  },
  {
   "cell_type": "code",
   "execution_count": 5,
   "id": "75997c53-8b43-4bc2-9986-b752315a91f7",
   "metadata": {},
   "outputs": [
    {
     "data": {
      "image/png": "[encoded data removed]",
      "text/plain": [
       "<IPython.core.display.Image object>"
      ]
     },
     "metadata": {
      "image/png": {
       "height": 49,
       "width": 697
      }
     },
     "output_type": "display_data"
    }
   ],
   "source": [
    "gMajorChord = chord.Chord(['G4','B4','D5'], type='whole')\n",
    "noteStream.append(gMajorChord)\n",
    "\n",
    "noteStream.show()"
   ]
  },
  {
   "cell_type": "markdown",
   "id": "62b47e1b-ffff-49e8-ae30-9cb882313554",
   "metadata": {},
   "source": [
    "## Set the Key and Time Signature\n",
    "\n",
    "To set the musical key, append a **Key** object to the Stream. A Key represents the information related to the key signature and can include the associated scale. To construct a Key, specify the name of the key in the `Key()`  method from the `key` package, using capitalization to represent major or minor mode. For example, the value `'e'` represents the key of *E minor*, and the value `'E'` represents the key of *E major*.\n",
    "\n",
    "**Note:** You can use **KeySignature** instead of a Key, but it omits the relationship between the key and the tonic in a diatonic scale. You must use a Key instead of a KeySignature for harmonic analysis.\n",
    "\n",
    "To set the time signature, append a **TimeSignature** object to the Stream. A TimeSignature contains a value that represents the music's meter. To construct a TimeSignature, specify the time value in the `TimeSignature()` method from the `meter` package. For example, a value of `'2/4'` sets the length of a measure to *two quarter notes*.\n",
    "\n",
    "Run the following code to clear your Stream, set the key and time signatuures, and add a few notes:"
   ]
  },
  {
   "cell_type": "code",
   "execution_count": 7,
   "id": "5983f44c-0da9-433d-b857-9876984a4c07",
   "metadata": {},
   "outputs": [
    {
     "data": {
      "image/png": "[encoded data removed]",
      "text/plain": [
       "<IPython.core.display.Image object>"
      ]
     },
     "metadata": {
      "image/png": {
       "height": 49,
       "width": 159
      }
     },
     "output_type": "display_data"
    },
    {
     "name": "stderr",
     "output_type": "stream",
     "text": [
      "Matplotlib is building the font cache; this may take a moment.\n"
     ]
    }
   ],
   "source": [
    "# clear() removes all information from the stream\n",
    "noteStream.clear()\n",
    "\n",
    "noteStream.append(meter.TimeSignature('3/4'))  \n",
    "noteStream.append(key.Key('D'))\n",
    "noteStream.append(clef.TrebleClef())\n",
    "\n",
    "noteStream.append(note.Note('D4', type='eighth'))\n",
    "noteStream.append(note.Note('F#4', type='eighth'))\n",
    "noteStream.append(note.Note('A4', type='quarter'))\n",
    "noteStream.append(note.Note('D5', type='quarter'))\n",
    "\n",
    "noteStream.show()"
   ]
  },
  {
   "cell_type": "markdown",
   "id": "6111c7c5-a266-4f1c-8f17-7727afe34550",
   "metadata": {},
   "source": [
    "## Play Back Your Music\n",
    "\n",
    "To render a widget that lets you play your Stream using the MIDI protocol, pass the value `'midi'` to the `show()` method. This call generates a MIDI representation of the notes in the Stream.\n",
    "\n",
    "To learn about additional output options, see the [Stream.show()](https://www.music21.org/music21docs/moduleReference/moduleStreamBase.html#music21.stream.base.Stream.show) API documentation.\n",
    "\n",
    "Run the following code to create a widget that plays your Stream in MIDI format:"
   ]
  },
  {
   "cell_type": "code",
   "execution_count": 153,
   "id": "1fe8ef2c-e764-4c0c-93c1-195a87a7fba5",
   "metadata": {},
   "outputs": [
    {
     "data": {
      "text/html": [
       "\n",
       "        <div id=\"midiPlayerDiv25857\"></div>\n",
       "        <link rel=\"stylesheet\" href=\"https://cuthbertLab.github.io/music21j/css/m21.css\">\n",
       "        \n",
       "        <script\n",
       "        src=\"https://cdnjs.cloudflare.com/ajax/libs/require.js/2.3.6/require.min.js\"\n",
       "        ></script>\n",
       "    \n",
       "        <script>\n",
       "        function midiPlayerDiv25857_play() {\n",
       "            const rq = require.config({\n",
       "                paths: {\n",
       "                    'music21': 'https://cuthbertLab.github.io/music21j/releases/music21.debug',\n",
       "                }\n",
       "            });\n",
       "            rq(['music21'], function(music21) {\n",
       "                mp = new music21.miditools.MidiPlayer();\n",
       "                mp.addPlayer(\"#midiPlayerDiv25857\");\n",
       "                mp.base64Load(\"data:audio/midi;base64,TVRoZAAAAAYAAQACJ2BNVHJrAAAAGgD/UQMHoSAA/1kCAgAA/1gEAwIYCM5g/y8ATVRyawAAACkA/wMAAOAAQM5gkD5apzCAPgAAkEJapzCAQgAAkEVazmCARQDOYP8vAA==\");\n",
       "            });\n",
       "        }\n",
       "        if (typeof require === 'undefined') {\n",
       "            setTimeout(midiPlayerDiv25857_play, 2000);\n",
       "        } else {\n",
       "            midiPlayerDiv25857_play();\n",
       "        }\n",
       "        </script>"
      ],
      "text/plain": [
       "<IPython.core.display.HTML object>"
      ]
     },
     "metadata": {},
     "output_type": "display_data"
    }
   ],
   "source": [
    "noteStream.show('midi')"
   ]
  },
  {
   "cell_type": "markdown",
   "id": "4ba77e77-6885-4a01-9d41-b953ed5a4c68",
   "metadata": {},
   "source": [
    "## Analyze Your Music\n",
    "\n",
    "To get the harmonic function of a chord, pass the Chord and Key to the `romanNumeralFromChord()` method in the `roman` module.\n",
    "\n",
    "Roman numeral analysis describes the chord characteristics such as the scale degree, inversion, and interval spacing. To learn more about this type of analysis, see [Roman numeral analysis](https://en.wikipedia.org/w/index.php?title=Roman_numeral_analysis&oldid=1202857880) on Wikipedia.\n",
    "\n",
    "Run the following code to create a sample chord progression, print the Roman numeral analysis, and display the musical notation:"
   ]
  },
  {
   "cell_type": "code",
   "execution_count": 8,
   "id": "7af4841a-9cf2-40c5-b66d-313e155d3cfb",
   "metadata": {},
   "outputs": [
    {
     "name": "stdout",
     "output_type": "stream",
     "text": [
      "Roman numeral analysis of the chords:\n",
      "\n",
      "<music21.roman.RomanNumeral I in F major>\n",
      "<music21.roman.RomanNumeral IV in F major>\n",
      "<music21.roman.RomanNumeral viio in F major>\n",
      "<music21.roman.RomanNumeral iii in F major>\n",
      "<music21.roman.RomanNumeral vi in F major>\n",
      "<music21.roman.RomanNumeral ii in F major>\n",
      "<music21.roman.RomanNumeral V in F major>\n",
      "<music21.roman.RomanNumeral I in F major>\n"
     ]
    },
    {
     "data": {
      "image/png": "[encoded data removed]",
      "text/plain": [
       "<IPython.core.display.Image object>"
      ]
     },
     "metadata": {
      "image/png": {
       "height": 49,
       "width": 697
      }
     },
     "output_type": "display_data"
    }
   ],
   "source": [
    "chordProgressionStream = stream.Stream()\n",
    "\n",
    "fMajorKey = key.Key('F')\n",
    "\n",
    "# Set the time signature, key, and clef\n",
    "chordProgressionStream.append(meter.TimeSignature('4/4'))  \n",
    "chordProgressionStream.append(key.Key('F')) \n",
    "chordProgressionStream.append(clef.TrebleClef())\n",
    "\n",
    "# Create a circle of fourths chord progression \n",
    "chords = [\n",
    "    chord.Chord(['F4','A4','C5'], type='quarter'),\n",
    "    chord.Chord(['B-4','D5','F5'], type='quarter'),\n",
    "    chord.Chord(['E4','G4','B-4'], type='quarter'),\n",
    "    chord.Chord(['A4','C5','E5'], type='quarter'),\n",
    "    chord.Chord(['D4','F4','A4'], type='quarter'),\n",
    "    chord.Chord(['G4','B-4','D5'], type='quarter'),\n",
    "    chord.Chord(['C5','E5','G5'], type='quarter'),\n",
    "    chord.Chord(['F4','A4','C5'], type='quarter'),\n",
    "]\n",
    "\n",
    "# Add the chords\n",
    "print('Roman numeral analysis of the chords:\\n')\n",
    "for c in chords:\n",
    "    chordProgressionStream.append(c)\n",
    "   \n",
    "# Print the roman numeral analysis of the chords in the Stream\n",
    "for element in chordProgressionStream:\n",
    "    if isinstance(element, chord.Chord):\n",
    "        print(roman.romanNumeralFromChord(element, fMajorKey))\n",
    "\n",
    "chordProgressionStream.show()"
   ]
  },
  {
   "cell_type": "markdown",
   "id": "b95ae80c-3378-43db-92dd-1c1bc4ea26df",
   "metadata": {},
   "source": [
    "Run the following code to near the chord progression:"
   ]
  },
  {
   "cell_type": "code",
   "execution_count": 9,
   "id": "c5f0cda7-1794-4a28-b79b-391df570991a",
   "metadata": {},
   "outputs": [
    {
     "data": {
      "text/html": [
       "\n",
       "        <div id=\"midiPlayerDiv512\"></div>\n",
       "        <link rel=\"stylesheet\" href=\"https://cuthbertLab.github.io/music21j/css/m21.css\">\n",
       "        \n",
       "        <script\n",
       "        src=\"https://cdnjs.cloudflare.com/ajax/libs/require.js/2.3.6/require.min.js\"\n",
       "        ></script>\n",
       "    \n",
       "        <script>\n",
       "        function midiPlayerDiv512_play() {\n",
       "            const rq = require.config({\n",
       "                paths: {\n",
       "                    'music21': 'https://cuthbertLab.github.io/music21j/releases/music21.debug',\n",
       "                }\n",
       "            });\n",
       "            rq(['music21'], function(music21) {\n",
       "                mp = new music21.miditools.MidiPlayer();\n",
       "                mp.addPlayer(\"#midiPlayerDiv512\");\n",
       "                mp.base64Load(\"data:audio/midi;base64,TVRoZAAAAAYAAQACJ2BNVHJrAAAAGgD/UQMHoSAA/1kC/wAA/1gEBAIYCM5g/y8ATVRyawAAANYA/wMAAOAAQM5gkEFaAJBFWgCQSFrOYIBBAACARQAAgEgAAJBGWgCQSloAkE1azmCARgAAgEoAAIBNAACQQFoAkENaAJBGWs5ggEAAAIBDAACARgAAkEVaAJBIWgCQTFrOYIBFAACASAAAgEwAAJA+WgCQQVoAkEVazmCAPgAAgEEAAIBFAACQQ1oAkEZaAJBKWs5ggEMAAIBGAACASgAAkEhaAJBMWgCQT1rOYIBIAACATAAAgE8AAJBBWgCQRVoAkEhazmCAQQAAgEUAAIBIAM5g/y8A\");\n",
       "            });\n",
       "        }\n",
       "        if (typeof require === 'undefined') {\n",
       "            setTimeout(midiPlayerDiv512_play, 2000);\n",
       "        } else {\n",
       "            midiPlayerDiv512_play();\n",
       "        }\n",
       "        </script>"
      ],
      "text/plain": [
       "<IPython.core.display.HTML object>"
      ]
     },
     "metadata": {},
     "output_type": "display_data"
    }
   ],
   "source": [
    "chordProgressionStream.show('midi')"
   ]
  },
  {
   "cell_type": "markdown",
   "id": "138570c0-6bc4-402a-adcf-ea7d319db05c",
   "metadata": {},
   "source": [
    "## Summary\n",
    "\n",
    "After completing this quick start guide, you should have an understanding of the following concepts:\n",
    "\n",
    "- Relationship between the referenced music data classes\n",
    "- Creation of notes and chords\n",
    "- Generation of musical notation and playback\n",
    "- Harmonic analysis of chords\n",
    "\n",
    "To continue learning about this package, read the [Music21](https://www.music21.org/music21docs/) package documentation and search for other online resources such as this [Music21 YouTube Playlist](https://www.youtube.com/watch?v=zanx4IS3p24&list=PL1dIy2tm36HUn36wXyfXHauDFKO8LviCO).\n",
    "\n",
    "## API Documentation\n",
    "\n",
    "To learn more about the modules and methods mentioned in this guide, see the following API documentation:\n",
    "\n",
    "| Object Type   | Module Name | Method Name and Documentation Link |\n",
    "----------------|-------------|-------------------------------------|\n",
    "| Stream        | `stream`    | [`Stream()`](https://www.music21.org/music21docs/moduleReference/moduleStreamBase.html#stream) |\n",
    "| Note          | `note`      | [`Key()`](https://www.music21.org/music21docs/moduleReference/moduleKey.html#music21.key.Key) |\n",
    "| Pitch         | `pitch`     | [`Pitch()`](https://www.music21.org/music21docs/moduleReference/modulePitch.html#pitch) |\n",
    "| Duration      | `duration`  | [`Duration()`](https://www.music21.org/music21docs/moduleReference/moduleDuration.html#duration) |\n",
    "| Chord         | `chord`     | [`Chord()`](https://www.music21.org/music21docs/moduleReference/moduleChord.html#chord)  |\n",
    "| Clef          | `clef`      | [`TrebleClef()`](https://www.music21.org/music21docs/moduleReference/moduleClef.html#music21.clef.TrebleClef) |\n",
    "| Key           | `key`       | [`Key()`](https://www.music21.org/music21docs/moduleReference/moduleKey.html#music21.key.Key) |\n",
    "| TimeSignature | `meter`     | [`TimeSignature()`](https://www.music21.org/music21docs/moduleReference/moduleMeterBase.html#timesignature) |\n",
    "| RomanNumeral  | `roman`     | [`romanNumeralFromChord()`](https://www.music21.org/music21docs/moduleReference/moduleRoman.html#module-music21.roman) |\n",
    "\n"
   ]
  }
 ],
 "metadata": {
  "kernelspec": {
   "display_name": "Python 3 (ipykernel)",
   "language": "python",
   "name": "python3"
  },
  "language_info": {
   "codemirror_mode": {
    "name": "ipython",
    "version": 3
   },
   "file_extension": ".py",
   "mimetype": "text/x-python",
   "name": "python",
   "nbconvert_exporter": "python",
   "pygments_lexer": "ipython3",
   "version": "3.12.4"
  }
 },
 "nbformat": 4,
 "nbformat_minor": 5
}
